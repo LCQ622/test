{
 "cells": [
  {
   "cell_type": "markdown",
   "metadata": {},
   "source": [
    "# 编写一个动物类"
   ]
  },
  {
   "cell_type": "code",
   "execution_count": 4,
   "metadata": {},
   "outputs": [],
   "source": [
    "class Animal(object):\n",
    "    def __init__(self):\n",
    "        self.full=False\n",
    "    def __str__(self):\n",
    "        return \"动物类\"\n",
    "    def eat(self):\n",
    "        if self.full:\n",
    "            print(\"吃饱啦\")\n",
    "        else:\n",
    "            print(\"正在吃！！！\")\n",
    "            self.full=True\n",
    "        \n",
    "    \n"
   ]
  },
  {
   "cell_type": "markdown",
   "metadata": {},
   "source": [
    "### 新建一个鸟类\n",
    "需要重写造方法,此时将直接调用父类的构造方法。"
   ]
  },
  {
   "cell_type": "code",
   "execution_count": 12,
   "metadata": {},
   "outputs": [
    {
     "name": "stdout",
     "output_type": "stream",
     "text": [
      "正在吃！！！\n",
      "吃饱啦\n"
     ]
    }
   ],
   "source": [
    "class Bird(Animal):\n",
    "    def __init__(self):\n",
    "        Animal.__init__(self)\n",
    "    \n",
    "b=Bird()\n",
    "b.eat()\n",
    "b.eat()"
   ]
  },
  {
   "cell_type": "markdown",
   "metadata": {},
   "source": [
    "### 另一种写法：\n",
    "使用super()函数调用父类方法。"
   ]
  },
  {
   "cell_type": "code",
   "execution_count": 17,
   "metadata": {},
   "outputs": [
    {
     "name": "stdout",
     "output_type": "stream",
     "text": [
      "正在吃！！！\n",
      "吃饱啦\n"
     ]
    }
   ],
   "source": [
    "class Bird(Animal):\n",
    "    def __init__(self):\n",
    "        #注意：此处使用构造方法时，请勿在.__init__()里传入self\n",
    "        super().__init__()\n",
    "    \n",
    "b=Bird()\n",
    "b.eat()\n",
    "b.eat()"
   ]
  },
  {
   "cell_type": "markdown",
   "metadata": {},
   "source": [
    "相比于直接对超类调用未关联方法，使用函数super更直观，但这并非其唯一的优点。实际上，函数super很聪明，因此即便有多个超类，也只需调用函数super一次（条件是所有超类的构造函数也使用函数super）。另外，对于使用旧式类时处理起来很棘手的问题（如两个超类从同一个类派生而来），在使用新式类和函数super时将自动得到处理。你无需知道函数super的内部工作原理，但必须知道的是，使用函数super比调用超类的未关联构造函\n",
    "数（或其他方法）要好得多。\n"
   ]
  },
  {
   "cell_type": "markdown",
   "metadata": {},
   "source": [
    "函数super返回的到底是什么呢？通常，你无需关心这个问题，只管假定它返回你所需的\n",
    "超类即可。实际上，它返回的是一个super对象，这个对象将负责为你执行方法解析。当你访\n",
    "问它的属性时，它将在所有的超类（以及超类的超类，等等）中查找，直到找到指定的属性或\n",
    "引发AttributeError异常。"
   ]
  }
 ],
 "metadata": {
  "kernelspec": {
   "display_name": "Python 3",
   "language": "python",
   "name": "python3"
  },
  "language_info": {
   "codemirror_mode": {
    "name": "ipython",
    "version": 3
   },
   "file_extension": ".py",
   "mimetype": "text/x-python",
   "name": "python",
   "nbconvert_exporter": "python",
   "pygments_lexer": "ipython3",
   "version": "3.7.2"
  }
 },
 "nbformat": 4,
 "nbformat_minor": 2
}
