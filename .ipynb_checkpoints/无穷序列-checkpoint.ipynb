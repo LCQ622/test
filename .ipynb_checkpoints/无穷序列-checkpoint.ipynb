{
 "cells": [
  {
   "cell_type": "markdown",
   "metadata": {},
   "source": [
    "# 无穷序列"
   ]
  },
  {
   "cell_type": "code",
   "execution_count": 37,
   "metadata": {},
   "outputs": [
    {
     "name": "stdout",
     "output_type": "stream",
     "text": [
      "\n",
      "1 2 3 4 5 6 7 8 9 10 \n",
      "1 5 9 13 17 21 25 29 33 37 \n",
      "1 8 15 22 29 36 43 50 57 64 \n",
      "1 7 13 19 25 31 37 43 49 55 \n",
      "1 11 21 31 41 51 61 71 81 91 \n",
      "1 10 19 28 37 46 55 64 73 82 \n",
      "1 5 9 13 17 21 25 29 33 37 \n",
      "1 9 17 25 33 41 49 57 65 73 \n",
      "1 4 7 10 13 16 19 22 25 28 \n",
      "1 5 9 13 17 21 25 29 33 37 "
     ]
    }
   ],
   "source": [
    "import random\n",
    "\n",
    "def check_index(key):\n",
    "    '''\n",
    "    校验索引值\n",
    "    键必须是非负整数，才是可接受的。如果不是整数，\n",
    "    将引发TypeError异常；如果是负数，将引发Index\n",
    "    Error异常（因为这个序列的长度是无穷的）\n",
    "    '''\n",
    "    \n",
    "    if not isinstance(key,int): raise TypeError(\"类型错误，需要int类型\")\n",
    "    if key<0:raise IndexError(\"索引错误，不能为负数\")\n",
    "    \n",
    "    \n",
    "# 等差数列    \n",
    "class ArithmeticSequence(object):\n",
    "    def __init__(self,start=0,step=1):\n",
    "        \"\"\"\n",
    "        初始化这个算术序列\n",
    "        start -序列中的第一个值\n",
    "        step -两个相邻值的差\n",
    "        changed -一个字典，包含用户修改后的值\n",
    "        \"\"\"\n",
    "        self.start=start\n",
    "        self.step=step\n",
    "        self.changed={}\n",
    "        \n",
    "    def __setitem__(self,key,value):\n",
    "        '''\n",
    "        修改等差序列的元素\n",
    "        '''\n",
    "        # 校验key\n",
    "        check_index(key)\n",
    "        changed[key]=value\n",
    "        \n",
    "    def __getitem__(self,key):\n",
    "        '''\n",
    "        获取序列的元素\n",
    "        '''\n",
    "         # 校验key\n",
    "        check_index(key)\n",
    "        try:\n",
    "            return self.changed[key]\n",
    "        except KeyError:\n",
    "            return self.start+key*self.step\n",
    "    \n",
    "    \n",
    "\n",
    "    \n",
    "# 产生10个等差数列，每列长度为10\n",
    "for j in range(10):\n",
    "    a=ArithmeticSequence(1,random.randint(1,10))\n",
    "    print()\n",
    "    for i in range(10):\n",
    "        print(a[i],end=\" \")"
   ]
  }
 ],
 "metadata": {
  "kernelspec": {
   "display_name": "Python 3",
   "language": "python",
   "name": "python3"
  },
  "language_info": {
   "codemirror_mode": {
    "name": "ipython",
    "version": 3
   },
   "file_extension": ".py",
   "mimetype": "text/x-python",
   "name": "python",
   "nbconvert_exporter": "python",
   "pygments_lexer": "ipython3",
   "version": "3.7.2"
  }
 },
 "nbformat": 4,
 "nbformat_minor": 2
}
