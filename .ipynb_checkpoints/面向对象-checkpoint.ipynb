{
 "cells": [
  {
   "cell_type": "code",
   "execution_count": 4,
   "metadata": {},
   "outputs": [
    {
     "name": "stdout",
     "output_type": "stream",
     "text": [
      "姓名：傻强,年龄：1\n",
      "姓名：傻强,年龄：2\n",
      "姓名：傻强,年龄：3\n",
      "姓名：傻强,年龄：4\n",
      "姓名：傻强,年龄：5\n",
      "姓名：傻强,年龄：6\n",
      "姓名：傻强,年龄：7\n",
      "姓名：傻强,年龄：8\n",
      "姓名：傻强,年龄：9\n",
      "姓名：傻强,年龄：10\n"
     ]
    }
   ],
   "source": [
    "class person(object):\n",
    "    def __init__(self,name,age):\n",
    "        self.name=name\n",
    "        self.age=age\n",
    "    \n",
    "    def __str__(self):\n",
    "        return \"姓名：{0},年龄：{1}\".format(self.name,self.age)\n",
    " \n",
    "\n",
    "\n",
    "for i in range(1,11):\n",
    "    p =person(\"傻强\".format(i),i)     \n",
    "    print(p)"
   ]
  },
  {
   "cell_type": "code",
   "execution_count": null,
   "metadata": {},
   "outputs": [],
   "source": []
  }
 ],
 "metadata": {
  "kernelspec": {
   "display_name": "Python 3",
   "language": "python",
   "name": "python3"
  },
  "language_info": {
   "codemirror_mode": {
    "name": "ipython",
    "version": 3
   },
   "file_extension": ".py",
   "mimetype": "text/x-python",
   "name": "python",
   "nbconvert_exporter": "python",
   "pygments_lexer": "ipython3",
   "version": "3.7.2"
  }
 },
 "nbformat": 4,
 "nbformat_minor": 2
}
