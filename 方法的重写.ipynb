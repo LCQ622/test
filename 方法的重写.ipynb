{
 "cells": [
  {
   "cell_type": "markdown",
   "metadata": {},
   "source": [
    "# 方法的重写"
   ]
  },
  {
   "cell_type": "code",
   "execution_count": 2,
   "metadata": {},
   "outputs": [
    {
     "name": "stdout",
     "output_type": "stream",
     "text": [
      "动物叫声\n"
     ]
    }
   ],
   "source": [
    "class Animal(object):\n",
    "    def cry(self):\n",
    "        print(\"动物叫声\")\n",
    "        \n",
    "\n",
    "a=Animal()\n",
    "a.cry()"
   ]
  },
  {
   "cell_type": "markdown",
   "metadata": {},
   "source": [
    "### 继承动物类\n",
    "不重写cry方法"
   ]
  },
  {
   "cell_type": "code",
   "execution_count": 22,
   "metadata": {},
   "outputs": [
    {
     "name": "stdout",
     "output_type": "stream",
     "text": [
      "动物叫声\n"
     ]
    }
   ],
   "source": [
    "class Dog(Animal):\n",
    "    pass\n",
    "d=Dog()\n",
    "d.cry()"
   ]
  },
  {
   "cell_type": "markdown",
   "metadata": {},
   "source": [
    "### 重写cry 方法"
   ]
  },
  {
   "cell_type": "code",
   "execution_count": 21,
   "metadata": {},
   "outputs": [
    {
     "name": "stdout",
     "output_type": "stream",
     "text": [
      "喵喵喵\n"
     ]
    }
   ],
   "source": [
    "class Cat(Animal):\n",
    "    def cry(self):\n",
    "        print(\"喵喵喵\")\n",
    "c=Cat()\n",
    "c.cry()"
   ]
  },
  {
   "cell_type": "markdown",
   "metadata": {},
   "source": [
    "##### 可以看到，如果子类中有特殊的方法时，将不在适用父类的方法，此时，就需要重写方法。"
   ]
  }
 ],
 "metadata": {
  "kernelspec": {
   "display_name": "Python 3",
   "language": "python",
   "name": "python3"
  },
  "language_info": {
   "codemirror_mode": {
    "name": "ipython",
    "version": 3
   },
   "file_extension": ".py",
   "mimetype": "text/x-python",
   "name": "python",
   "nbconvert_exporter": "python",
   "pygments_lexer": "ipython3",
   "version": "3.7.2"
  }
 },
 "nbformat": 4,
 "nbformat_minor": 2
}
