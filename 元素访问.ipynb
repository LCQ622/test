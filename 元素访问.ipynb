{
 "cells": [
  {
   "cell_type": "markdown",
   "metadata": {},
   "source": [
    "# 元素访问"
   ]
  },
  {
   "cell_type": "markdown",
   "metadata": {},
   "source": [
    "#### 使用len函数返回集合包含的项数。"
   ]
  },
  {
   "cell_type": "code",
   "execution_count": 54,
   "metadata": {},
   "outputs": [
    {
     "name": "stdout",
     "output_type": "stream",
     "text": [
      "[18, 6, 16, 8, 1, 18, 19, 2, 6, 1, 1, 20, 8, 16]\n",
      "14\n"
     ]
    }
   ],
   "source": [
    "import random #导入随机数模块\n",
    "list1=[random.randint(1,20) for i in range(random.randint(1,20))]\n",
    "print(list1)\n",
    "print(len(list1))"
   ]
  },
  {
   "cell_type": "markdown",
   "metadata": {},
   "source": [
    "#### 使用getitem函数获取指定键的值\n",
    "\n",
    "使用for ...in ...迭代对象的时候，如果对象没有实现__iter__ ,__next__ 迭代器协议，Python的解释器就会去寻找__getitem__来迭代对象。"
   ]
  },
  {
   "cell_type": "code",
   "execution_count": 61,
   "metadata": {},
   "outputs": [
    {
     "name": "stdout",
     "output_type": "stream",
     "text": [
      "18\n",
      "6\n",
      "16\n",
      "8\n",
      "1\n",
      "18\n",
      "19\n",
      "2\n",
      "6\n",
      "1\n",
      "1\n",
      "20\n",
      "8\n",
      "16\n"
     ]
    }
   ],
   "source": [
    "class box(object):\n",
    "    def __init__(self,Numberlist):\n",
    "        self.Numberlist=Numberlist\n",
    "    def __getitem__(self,index):\n",
    "        return self.Numberlist[index]\n",
    "    \n",
    "    \n",
    "b=box(list1)\n",
    "for i in b:\n",
    "    print(i)\n",
    "        \n",
    "        "
   ]
  }
 ],
 "metadata": {
  "kernelspec": {
   "display_name": "Python 3",
   "language": "python",
   "name": "python3"
  },
  "language_info": {
   "codemirror_mode": {
    "name": "ipython",
    "version": 3
   },
   "file_extension": ".py",
   "mimetype": "text/x-python",
   "name": "python",
   "nbconvert_exporter": "python",
   "pygments_lexer": "ipython3",
   "version": "3.7.2"
  }
 },
 "nbformat": 4,
 "nbformat_minor": 2
}
